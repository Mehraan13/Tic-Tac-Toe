{
 "cells": [
  {
   "cell_type": "code",
   "execution_count": null,
   "id": "93bbdc7f",
   "metadata": {},
   "outputs": [],
   "source": [
    "from IPython.display import clear_output"
   ]
  },
  {
   "cell_type": "code",
   "execution_count": null,
   "id": "26c576fe",
   "metadata": {},
   "outputs": [],
   "source": [
    "def display(ls):\n",
    "    print(\"Here's the currrent board\")\n",
    "    for index,item in enumerate(ls):\n",
    "        print(item , end =' ')\n",
    "        if(index+1) % 5 == 0:\n",
    "            print('\\n')\n"
   ]
  },
  {
   "cell_type": "code",
   "execution_count": null,
   "id": "ed9bbeb1",
   "metadata": {},
   "outputs": [],
   "source": [
    "ls = ['','||','','||','','','||','','||','','','||','','||','']\n"
   ]
  },
  {
   "cell_type": "code",
   "execution_count": null,
   "id": "e48899ba",
   "metadata": {},
   "outputs": [],
   "source": [
    "def game_on(ls):\n",
    "    if ls == ['X','||','X','||','X','','||','','||','','','||','','||',''] or ls ==  ['','||','','||','','X','||','X','||','X','','||','','||',''] or ls == ['','||','','||','','','||','','||','','X','||','X','||','X'] or ls == ['X','||','','||','','X','||','','||','','X','||','','||',''] or ls == ['','||','X','||','','','||','X','||','','','||','X','||',''] or ls == ['','||','','||','X','','||','','||','X','','||','','||','X']  or ls == ['X','||','','||','','','||','X','||','','','||','','||','X'] or ls == ['','||','','||','X','','||','X','||','','X','||','','||','']:\n",
    "        win = True\n",
    "        winner = 'Player1'\n",
    "        return win,winner\n",
    "    elif ls == ['O','||','O','||','O','','||','','||','','','||','','||',''] or ls ==  ['','||','','||','','O','||','O','||','O','','||','','||',''] or ls == ['','||','','||','','','||','','||','','O','||','O','||','O'] or ls == ['O','||','','||','','O','||','','||','','O','||','','||',''] or ls == ['','||','O','||','','','||','O','||','','','||','O','||',''] or ls == ['','||','','||','O','','||','','||','O','','||','','||','O']  or ls == ['O','||','','||','','','||','O','||','','','||','','||','O'] or ls == ['','||','','||','O','','||','O','||','','O','||','','||','']:\n",
    "        win = True\n",
    "        winner = 'Player2'\n",
    "    else:\n",
    "        win = False\n",
    "        winner = ''\n",
    "    return win,winner"
   ]
  },
  {
   "cell_type": "code",
   "execution_count": null,
   "id": "23852391",
   "metadata": {},
   "outputs": [],
   "source": [
    "def user_input(choice):\n",
    "    pass"
   ]
  },
  {
   "cell_type": "code",
   "execution_count": null,
   "id": "4796b451",
   "metadata": {},
   "outputs": [],
   "source": [
    "def update_gameboard(ls,pos,player):\n",
    "    pos_to_index = {'1': 0 ,'2': 2, '3': 4,'4':5 ,'5': 7,'6':9 , '7':10 ,'8':12 ,'9': 14}\n",
    "    \n",
    "    ls[pos_to_index[pos]] = player"
   ]
  },
  {
   "cell_type": "code",
   "execution_count": null,
   "id": "5d22979f",
   "metadata": {},
   "outputs": [],
   "source": [
    "def game():\n",
    "    valid_in = False\n",
    "    while valid_in == False:\n",
    "        player1 = input('Player 1: Do you want to be X or O?')\n",
    "        if player1 in ['X' , 'O']:\n",
    "            valid_in = True\n",
    "        else:\n",
    "            print(\"invalid input\")\n",
    "        \n",
    "    \n",
    "    \n",
    "    current_player = player1\n",
    "    if player1 == 'X':\n",
    "        player2 = 'O'\n",
    "    else:\n",
    "        player2 = 'X'\n",
    "   \n",
    "    win = False\n",
    "    winner = ''\n",
    "    \n",
    "    iteration = 1\n",
    "    \n",
    "    while not win :\n",
    "        #alternate turns between players\n",
    "        \n",
    "        \n",
    "        if iteration % 2 == 0:\n",
    "            current_player = player2\n",
    "        else:\n",
    "            current_player = player1\n",
    "        \n",
    "        pos = input('Enter your position of choice \\nThe position options are as under: \\n 1 | 2 | 3 \\n\\n 4 | 5 | 6 \\n\\n 7 | 8 | 9 \\n')\n",
    "        #validate user input\n",
    "\n",
    "        #update the gameboard\n",
    "        update_gameboard(ls,pos,current_player)\n",
    "        iteration +=1\n",
    "        #put this in loop\n",
    "        display(ls)\n",
    "        \n",
    "        #check whether any player has won\n",
    "        win,winner = game_on(ls)\n",
    "        \n",
    "    else:\n",
    "        print(f'{winner} has won the game!')\n",
    "    "
   ]
  },
  {
   "cell_type": "code",
   "execution_count": null,
   "id": "279c4d7b",
   "metadata": {},
   "outputs": [],
   "source": [
    "game()"
   ]
  },
  {
   "cell_type": "code",
   "execution_count": null,
   "id": "7a223528",
   "metadata": {},
   "outputs": [],
   "source": [
    "#The problem here is that we need to check for all combinations of the win -- How do we do that?"
   ]
  }
 ],
 "metadata": {
  "kernelspec": {
   "display_name": "Python 3 (ipykernel)",
   "language": "python",
   "name": "python3"
  },
  "language_info": {
   "codemirror_mode": {
    "name": "ipython",
    "version": 3
   },
   "file_extension": ".py",
   "mimetype": "text/x-python",
   "name": "python",
   "nbconvert_exporter": "python",
   "pygments_lexer": "ipython3",
   "version": "3.11.3"
  }
 },
 "nbformat": 4,
 "nbformat_minor": 5
}
