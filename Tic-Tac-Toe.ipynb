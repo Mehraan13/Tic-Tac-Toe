{
 "cells": [
  {
   "cell_type": "code",
   "execution_count": 21,
   "id": "26c576fe",
   "metadata": {},
   "outputs": [],
   "source": [
    "from IPython.display import clear_output\n",
    "\n",
    "def display_board(board):\n",
    "    for i in range(1,10):\n",
    "        if i  == 4 or i == 7:\n",
    "            print()\n",
    "        print(board[i], end = ' | ')\n",
    "    print('\\n'*2)"
   ]
  },
  {
   "cell_type": "code",
   "execution_count": 22,
   "id": "e9a60af4",
   "metadata": {},
   "outputs": [],
   "source": [
    "def player_input():\n",
    "    choice = 'wrong'\n",
    "    options = ['X','O','x','o']\n",
    "    while choice not in options:\n",
    "        \n",
    "        \n",
    "        choice = input('Enter X or O for Player 1')\n",
    "        \n",
    "        if choice not in options:\n",
    "            clear_output()\n",
    "            print('You entered incorrect option')\n",
    "    \n",
    "        \n",
    "        \n",
    "    if choice.upper() == 'X':\n",
    "        return 'X', 'O'\n",
    "    else:\n",
    "        return 'O', 'X'"
   ]
  },
  {
   "cell_type": "code",
   "execution_count": 23,
   "id": "a6e511db",
   "metadata": {},
   "outputs": [],
   "source": [
    "def place_marker(board, marker, position):\n",
    "    board[position] = marker\n",
    "    return board"
   ]
  },
  {
   "cell_type": "code",
   "execution_count": 24,
   "id": "e48899ba",
   "metadata": {},
   "outputs": [],
   "source": [
    "def win_check(board, mark):\n",
    "    #check columns rows and diagonals\n",
    "    if board[1:4] == [mark,mark,mark] or board[4:7] == [mark,mark,mark] or board[7:10] == [mark,mark,mark]:\n",
    "        return True\n",
    "    elif board[1:8:3] == [mark,mark,mark] or board[2:9:3] == [mark,mark,mark] or board[3:10:3] == [mark,mark,mark]:\n",
    "        return True\n",
    "    elif board[1:10:4] ==  [mark,mark,mark] or board[3:8:2] == [mark,mark,mark]:\n",
    "        return True\n",
    "    else:\n",
    "        return False"
   ]
  },
  {
   "cell_type": "code",
   "execution_count": 25,
   "id": "69092a9e",
   "metadata": {},
   "outputs": [],
   "source": [
    "import random\n",
    "\n",
    "def choose_first():\n",
    "    num = random.randint(1,2)\n",
    "    return 'Player 1' if num == 1 else 'Player 2'"
   ]
  },
  {
   "cell_type": "code",
   "execution_count": 26,
   "id": "3a966ff8",
   "metadata": {},
   "outputs": [],
   "source": [
    "def space_check(board, position):\n",
    "    options = ['X','O']\n",
    "    return True if board[position] not in options else False"
   ]
  },
  {
   "cell_type": "code",
   "execution_count": 27,
   "id": "5b62b102",
   "metadata": {},
   "outputs": [],
   "source": [
    "def full_board_check(board):\n",
    "    full_board = True\n",
    "    for ele in board[1:]:\n",
    "        if ele not in ['X','O']:\n",
    "            full_board = False\n",
    "    return full_board"
   ]
  },
  {
   "cell_type": "code",
   "execution_count": 28,
   "id": "23852391",
   "metadata": {},
   "outputs": [],
   "source": [
    "def player_choice(board):\n",
    "    \n",
    "    choice = 'wrong'\n",
    "    while not choice.isdigit():\n",
    "        choice = input('Enter a number from 1 to 9: ')\n",
    "        \n",
    "        if not choice.isdigit():\n",
    "            \n",
    "            clear_output()\n",
    "            print('Whoops! Not a number')\n",
    "            \n",
    "    if space_check(board, int(choice)):\n",
    "        return int(choice)\n",
    "    else:\n",
    "        return False"
   ]
  },
  {
   "cell_type": "code",
   "execution_count": 29,
   "id": "4796b451",
   "metadata": {},
   "outputs": [],
   "source": [
    "def replay():\n",
    "    choice = 'wrong'\n",
    "    options = ['Y', 'N']\n",
    "    \n",
    "    while choice not in options:\n",
    "        \n",
    "        choice = input(f'Do you want to play again? {options}')\n",
    "        \n",
    "        if choice not in options:\n",
    "            clear_output()\n",
    "            \n",
    "            print('Please choose Y or N')\n",
    "    if choice == 'Y':\n",
    "        return True\n",
    "    else:\n",
    "        return False"
   ]
  },
  {
   "cell_type": "code",
   "execution_count": null,
   "id": "5d22979f",
   "metadata": {},
   "outputs": [],
   "source": [
    "print('Welcome to Tic Tac Toe!')\n",
    "\n",
    "while True:\n",
    "    # Reset the board\n",
    "    theBoard = [' '] * 10\n",
    "    player1_marker, player2_marker = player_input()\n",
    "    turn = choose_first()\n",
    "    print(turn + ' will go first.')\n",
    "    \n",
    "    game_on = True\n",
    "\n",
    "    while game_on:\n",
    "        if turn == 'Player 1':\n",
    "            # Player1's turn.\n",
    "            \n",
    "            display_board(theBoard)\n",
    "            position = player_choice(theBoard)\n",
    "            place_marker(theBoard, player1_marker, position)\n",
    "\n",
    "            if win_check(theBoard, player1_marker):\n",
    "                display_board(theBoard)\n",
    "                print('Congratulations! You have won the game!')\n",
    "                game_on = False\n",
    "            else:\n",
    "                if full_board_check(theBoard):\n",
    "                    display_board(theBoard)\n",
    "                    print('The game is a draw!')\n",
    "                    break\n",
    "                else:\n",
    "                    turn = 'Player 2'\n",
    "\n",
    "        else:\n",
    "            # Player2's turn.\n",
    "            \n",
    "            display_board(theBoard)\n",
    "            position = player_choice(theBoard)\n",
    "            place_marker(theBoard, player2_marker, position)\n",
    "\n",
    "            if win_check(theBoard, player2_marker):\n",
    "                display_board(theBoard)\n",
    "                print('Player 2 has won!')\n",
    "                game_on = False\n",
    "            else:\n",
    "                if full_board_check(theBoard):\n",
    "                    display_board(theBoard)\n",
    "                    print('The game is a draw!')\n",
    "                    break\n",
    "                else:\n",
    "                    turn = 'Player 1'\n",
    "\n",
    "    if not replay():\n",
    "        break"
   ]
  }
 ],
 "metadata": {
  "kernelspec": {
   "display_name": "Python 3 (ipykernel)",
   "language": "python",
   "name": "python3"
  },
  "language_info": {
   "codemirror_mode": {
    "name": "ipython",
    "version": 3
   },
   "file_extension": ".py",
   "mimetype": "text/x-python",
   "name": "python",
   "nbconvert_exporter": "python",
   "pygments_lexer": "ipython3",
   "version": "3.11.3"
  }
 },
 "nbformat": 4,
 "nbformat_minor": 5
}
